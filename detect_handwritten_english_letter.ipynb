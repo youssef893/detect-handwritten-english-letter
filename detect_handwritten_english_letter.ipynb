{
  "metadata": {
    "kernelspec": {
      "language": "python",
      "display_name": "Python 3",
      "name": "python3"
    },
    "language_info": {
      "name": "python",
      "version": "3.7.12",
      "mimetype": "text/x-python",
      "codemirror_mode": {
        "name": "ipython",
        "version": 3
      },
      "pygments_lexer": "ipython3",
      "nbconvert_exporter": "python",
      "file_extension": ".py"
    },
    "colab": {
      "name": "detect-handwritten-english-letter.ipynb",
      "provenance": [],
      "collapsed_sections": [],
      "include_colab_link": true
    },
    "accelerator": "GPU"
  },
  "nbformat_minor": 0,
  "nbformat": 4,
  "cells": [
    {
      "cell_type": "markdown",
      "metadata": {
        "id": "view-in-github",
        "colab_type": "text"
      },
      "source": [
        "<a href=\"https://colab.research.google.com/github/youssef893/detect-handwritten-english-letter/blob/main/detect_handwritten_english_letter.ipynb\" target=\"_parent\"><img src=\"https://colab.research.google.com/assets/colab-badge.svg\" alt=\"Open In Colab\"/></a>"
      ]
    },
    {
      "cell_type": "code",
      "source": [
        "!pip install emnist"
      ],
      "metadata": {
        "_uuid": "8f2839f25d086af736a60e9eeb907d3b93b6e0e5",
        "_cell_guid": "b1076dfc-b9ad-4769-8c92-a6c4dae69d19",
        "execution": {
          "iopub.status.busy": "2022-05-06T19:23:13.392624Z",
          "iopub.execute_input": "2022-05-06T19:23:13.392898Z",
          "iopub.status.idle": "2022-05-06T19:23:13.396575Z",
          "shell.execute_reply.started": "2022-05-06T19:23:13.392867Z",
          "shell.execute_reply": "2022-05-06T19:23:13.395707Z"
        },
        "trusted": true,
        "colab": {
          "base_uri": "https://localhost:8080/"
        },
        "id": "c9EuL_SumvRu",
        "outputId": "7e2ec352-1462-473c-9155-b0fbe76eb6a8"
      },
      "execution_count": 16,
      "outputs": [
        {
          "output_type": "stream",
          "name": "stdout",
          "text": [
            "Requirement already satisfied: emnist in /usr/local/lib/python3.7/dist-packages (0.0)\n",
            "Requirement already satisfied: numpy in /usr/local/lib/python3.7/dist-packages (from emnist) (1.21.6)\n",
            "Requirement already satisfied: tqdm in /usr/local/lib/python3.7/dist-packages (from emnist) (4.64.0)\n",
            "Requirement already satisfied: requests in /usr/local/lib/python3.7/dist-packages (from emnist) (2.23.0)\n",
            "Requirement already satisfied: chardet<4,>=3.0.2 in /usr/local/lib/python3.7/dist-packages (from requests->emnist) (3.0.4)\n",
            "Requirement already satisfied: certifi>=2017.4.17 in /usr/local/lib/python3.7/dist-packages (from requests->emnist) (2021.10.8)\n",
            "Requirement already satisfied: idna<3,>=2.5 in /usr/local/lib/python3.7/dist-packages (from requests->emnist) (2.10)\n",
            "Requirement already satisfied: urllib3!=1.25.0,!=1.25.1,<1.26,>=1.21.1 in /usr/local/lib/python3.7/dist-packages (from requests->emnist) (1.24.3)\n"
          ]
        }
      ]
    },
    {
      "cell_type": "code",
      "source": [
        "from emnist import extract_training_samples, extract_test_samples\n",
        "from sklearn.utils import shuffle\n",
        "from keras.layers import Conv2D, MaxPooling2D, Flatten\n",
        "from keras.layers import Dense, BatchNormalization, Dropout\n",
        "from keras.models import Sequential\n",
        "from tensorflow.keras.utils import to_categorical\n",
        "from sklearn.model_selection import train_test_split\n",
        "import numpy as np\n",
        "from keras.regularizers import l2\n",
        "from keras.callbacks import EarlyStopping, ModelCheckpoint\n",
        "from sklearn.metrics import classification_report, confusion_matrix\n",
        "import matplotlib.pyplot as plt\n",
        "import seaborn as sns"
      ],
      "metadata": {
        "execution": {
          "iopub.status.busy": "2022-05-06T19:23:13.572085Z",
          "iopub.execute_input": "2022-05-06T19:23:13.572408Z",
          "iopub.status.idle": "2022-05-06T19:23:13.577890Z",
          "shell.execute_reply.started": "2022-05-06T19:23:13.572378Z",
          "shell.execute_reply": "2022-05-06T19:23:13.577018Z"
        },
        "trusted": true,
        "id": "E4iRH6oimvR2"
      },
      "execution_count": 17,
      "outputs": []
    },
    {
      "cell_type": "markdown",
      "source": [
        "# Load Data\n"
      ],
      "metadata": {
        "id": "fSnzlUNco5AA"
      }
    },
    {
      "cell_type": "code",
      "source": [
        "x_train, y_train = extract_training_samples('letters')\n",
        "x_test, y_test = extract_test_samples('letters')"
      ],
      "metadata": {
        "execution": {
          "iopub.status.busy": "2022-05-06T19:23:13.681864Z",
          "iopub.execute_input": "2022-05-06T19:23:13.682063Z",
          "iopub.status.idle": "2022-05-06T19:23:14.615299Z",
          "shell.execute_reply.started": "2022-05-06T19:23:13.682040Z",
          "shell.execute_reply": "2022-05-06T19:23:14.614514Z"
        },
        "trusted": true,
        "id": "8YiqNEUymvR4"
      },
      "execution_count": 18,
      "outputs": []
    },
    {
      "cell_type": "markdown",
      "source": [
        "# Preprocess Data"
      ],
      "metadata": {
        "id": "3JFhhl1ko9N-"
      }
    },
    {
      "cell_type": "code",
      "source": [
        "x_train.shape"
      ],
      "metadata": {
        "execution": {
          "iopub.status.busy": "2022-05-06T19:23:14.616844Z",
          "iopub.execute_input": "2022-05-06T19:23:14.617091Z",
          "iopub.status.idle": "2022-05-06T19:23:14.623989Z",
          "shell.execute_reply.started": "2022-05-06T19:23:14.617056Z",
          "shell.execute_reply": "2022-05-06T19:23:14.623193Z"
        },
        "trusted": true,
        "colab": {
          "base_uri": "https://localhost:8080/"
        },
        "id": "MwsPHrupmvR6",
        "outputId": "04d9ced4-b4db-4d93-9340-c027dc25c0ce"
      },
      "execution_count": 19,
      "outputs": [
        {
          "output_type": "execute_result",
          "data": {
            "text/plain": [
              "(124800, 28, 28)"
            ]
          },
          "metadata": {},
          "execution_count": 19
        }
      ]
    },
    {
      "cell_type": "code",
      "source": [
        "x_train = x_train.astype('float32')\n",
        "x_test = x_test.astype('float32')\n",
        "x_train = np.reshape(x_train, (len(x_train), 28, 28, 1))\n",
        "x_test = np.reshape(x_test, (len(x_test), 28, 28, 1))"
      ],
      "metadata": {
        "execution": {
          "iopub.status.busy": "2022-05-06T19:23:14.625456Z",
          "iopub.execute_input": "2022-05-06T19:23:14.625902Z",
          "iopub.status.idle": "2022-05-06T19:23:14.751004Z",
          "shell.execute_reply.started": "2022-05-06T19:23:14.625863Z",
          "shell.execute_reply": "2022-05-06T19:23:14.750127Z"
        },
        "trusted": true,
        "id": "rb2vhptTmvR7"
      },
      "execution_count": 20,
      "outputs": []
    },
    {
      "cell_type": "code",
      "source": [
        "x_train, y_train = shuffle(x_train, y_train, random_state=15)"
      ],
      "metadata": {
        "execution": {
          "iopub.status.busy": "2022-05-06T19:23:14.753225Z",
          "iopub.execute_input": "2022-05-06T19:23:14.753822Z",
          "iopub.status.idle": "2022-05-06T19:23:14.895954Z",
          "shell.execute_reply.started": "2022-05-06T19:23:14.753780Z",
          "shell.execute_reply": "2022-05-06T19:23:14.895117Z"
        },
        "trusted": true,
        "id": "1Vgd_tefmvR8"
      },
      "execution_count": 21,
      "outputs": []
    },
    {
      "cell_type": "code",
      "source": [
        "x_train.shape, y_train.shape"
      ],
      "metadata": {
        "execution": {
          "iopub.status.busy": "2022-05-06T19:23:14.897294Z",
          "iopub.execute_input": "2022-05-06T19:23:14.897646Z",
          "iopub.status.idle": "2022-05-06T19:23:14.909109Z",
          "shell.execute_reply.started": "2022-05-06T19:23:14.897608Z",
          "shell.execute_reply": "2022-05-06T19:23:14.908115Z"
        },
        "trusted": true,
        "colab": {
          "base_uri": "https://localhost:8080/"
        },
        "id": "02RGdNMAmvR9",
        "outputId": "ee823217-1a49-4eec-9eaa-34068c81b553"
      },
      "execution_count": 22,
      "outputs": [
        {
          "output_type": "execute_result",
          "data": {
            "text/plain": [
              "((124800, 28, 28, 1), (124800,))"
            ]
          },
          "metadata": {},
          "execution_count": 22
        }
      ]
    },
    {
      "cell_type": "code",
      "source": [
        "y_train = to_categorical(y_train, num_classes=27)\n",
        "y_test = to_categorical(y_test, num_classes=27)"
      ],
      "metadata": {
        "execution": {
          "iopub.status.busy": "2022-05-06T19:23:14.911590Z",
          "iopub.execute_input": "2022-05-06T19:23:14.912202Z",
          "iopub.status.idle": "2022-05-06T19:23:14.922953Z",
          "shell.execute_reply.started": "2022-05-06T19:23:14.912164Z",
          "shell.execute_reply": "2022-05-06T19:23:14.922240Z"
        },
        "trusted": true,
        "id": "9jKd2oCymvR_"
      },
      "execution_count": 23,
      "outputs": []
    },
    {
      "cell_type": "code",
      "source": [
        "y_train[0:5]"
      ],
      "metadata": {
        "execution": {
          "iopub.status.busy": "2022-05-06T19:23:14.924362Z",
          "iopub.execute_input": "2022-05-06T19:23:14.924877Z",
          "iopub.status.idle": "2022-05-06T19:23:14.934510Z",
          "shell.execute_reply.started": "2022-05-06T19:23:14.924840Z",
          "shell.execute_reply": "2022-05-06T19:23:14.933534Z"
        },
        "trusted": true,
        "colab": {
          "base_uri": "https://localhost:8080/"
        },
        "id": "4izESlIPmvSB",
        "outputId": "a7412d21-ab93-476b-9e55-4bd81b9f137f"
      },
      "execution_count": 24,
      "outputs": [
        {
          "output_type": "execute_result",
          "data": {
            "text/plain": [
              "array([[0., 0., 0., 0., 0., 0., 0., 0., 0., 0., 0., 0., 0., 0., 0., 0.,\n",
              "        0., 0., 0., 0., 0., 0., 0., 0., 0., 0., 1.],\n",
              "       [0., 0., 0., 0., 0., 0., 0., 1., 0., 0., 0., 0., 0., 0., 0., 0.,\n",
              "        0., 0., 0., 0., 0., 0., 0., 0., 0., 0., 0.],\n",
              "       [0., 0., 0., 0., 0., 0., 0., 0., 0., 0., 0., 0., 0., 1., 0., 0.,\n",
              "        0., 0., 0., 0., 0., 0., 0., 0., 0., 0., 0.],\n",
              "       [0., 0., 0., 0., 0., 0., 0., 1., 0., 0., 0., 0., 0., 0., 0., 0.,\n",
              "        0., 0., 0., 0., 0., 0., 0., 0., 0., 0., 0.],\n",
              "       [0., 0., 0., 0., 0., 0., 0., 0., 1., 0., 0., 0., 0., 0., 0., 0.,\n",
              "        0., 0., 0., 0., 0., 0., 0., 0., 0., 0., 0.]], dtype=float32)"
            ]
          },
          "metadata": {},
          "execution_count": 24
        }
      ]
    },
    {
      "cell_type": "markdown",
      "source": [
        "# Create Model"
      ],
      "metadata": {
        "id": "q-bRiqjXpDGk"
      }
    },
    {
      "cell_type": "code",
      "source": [
        "cnn = Sequential()\n",
        "# first conv layer\n",
        "cnn.add(Conv2D(filters=32, kernel_size=(3, 3), activation=\"relu\", input_shape=(28, 28, 1)))\n",
        "# second layer\n",
        "cnn.add(Conv2D(filters=64, kernel_size=(3, 3), activation=\"relu\"))  # filters is number of filters & kernel size is size of filter\n",
        "# max pooling layer\n",
        "cnn.add(MaxPooling2D(pool_size=(2, 2)))\n",
        "cnn.add(BatchNormalization())\n",
        "cnn.add(Conv2D(filters=64, kernel_size=(3, 3), activation=\"relu\"))\n",
        "cnn.add(Conv2D(filters=128, kernel_size=(3, 3), activation=\"relu\"))\n",
        "cnn.add(MaxPooling2D(pool_size=(2, 2)))\n",
        "cnn.add(BatchNormalization())\n",
        "cnn.add(Conv2D(filters=128, kernel_size=(3, 3), activation=\"relu\"))\n",
        "cnn.add(MaxPooling2D(pool_size=(2, 2)))\n",
        "# Flatten layer\n",
        "cnn.add(Flatten())\n",
        "# Fully connected layer\n",
        "cnn.add(Dense(256, activation=\"relu\", kernel_regularizer=l2(0.0001)))\n",
        "cnn.add(Dense(512, activation=\"relu\", kernel_regularizer=l2(0.0001)))\n",
        "cnn.add(Dropout(0.2))\n",
        "cnn.add(Dense(1024, activation=\"relu\", kernel_regularizer=l2(0.0001)))\n",
        "cnn.add(Dense(256, activation=\"relu\", kernel_regularizer=l2(0.0001)))\n",
        "cnn.add(Dropout(0.2))\n",
        "cnn.add(Dense(128, activation=\"relu\", kernel_regularizer=l2(0.0001)))\n",
        "cnn.add(Dense(64, activation=\"relu\", kernel_regularizer=l2(0.0001)))\n",
        "cnn.add(Dropout(0.2))\n",
        "cnn.add(Dense(32, activation=\"relu\", kernel_regularizer=l2(0.0001)))"
      ],
      "metadata": {
        "execution": {
          "iopub.status.busy": "2022-05-06T19:23:14.936336Z",
          "iopub.execute_input": "2022-05-06T19:23:14.936894Z",
          "iopub.status.idle": "2022-05-06T19:23:15.078619Z",
          "shell.execute_reply.started": "2022-05-06T19:23:14.936855Z",
          "shell.execute_reply": "2022-05-06T19:23:15.077908Z"
        },
        "trusted": true,
        "id": "BOiY_CxbmvSD"
      },
      "execution_count": 25,
      "outputs": []
    },
    {
      "cell_type": "code",
      "source": [
        "cnn.add(Dense(27, activation=\"softmax\",  kernel_regularizer=l2(0.0001)))\n",
        "# cnn.load_weights('./best_model.h5')\n",
        "cnn.summary()"
      ],
      "metadata": {
        "execution": {
          "iopub.status.busy": "2022-05-06T19:23:15.084873Z",
          "iopub.execute_input": "2022-05-06T19:23:15.085084Z",
          "iopub.status.idle": "2022-05-06T19:23:15.111298Z",
          "shell.execute_reply.started": "2022-05-06T19:23:15.085060Z",
          "shell.execute_reply": "2022-05-06T19:23:15.110475Z"
        },
        "trusted": true,
        "colab": {
          "base_uri": "https://localhost:8080/"
        },
        "id": "5iGz-cxDmvSG",
        "outputId": "3db04176-e01f-4c80-fdbc-9981f4bcd3b2"
      },
      "execution_count": 26,
      "outputs": [
        {
          "output_type": "stream",
          "name": "stdout",
          "text": [
            "Model: \"sequential_1\"\n",
            "_________________________________________________________________\n",
            " Layer (type)                Output Shape              Param #   \n",
            "=================================================================\n",
            " conv2d_5 (Conv2D)           (None, 26, 26, 32)        320       \n",
            "                                                                 \n",
            " conv2d_6 (Conv2D)           (None, 24, 24, 64)        18496     \n",
            "                                                                 \n",
            " max_pooling2d_3 (MaxPooling  (None, 12, 12, 64)       0         \n",
            " 2D)                                                             \n",
            "                                                                 \n",
            " batch_normalization_2 (Batc  (None, 12, 12, 64)       256       \n",
            " hNormalization)                                                 \n",
            "                                                                 \n",
            " conv2d_7 (Conv2D)           (None, 10, 10, 64)        36928     \n",
            "                                                                 \n",
            " conv2d_8 (Conv2D)           (None, 8, 8, 128)         73856     \n",
            "                                                                 \n",
            " max_pooling2d_4 (MaxPooling  (None, 4, 4, 128)        0         \n",
            " 2D)                                                             \n",
            "                                                                 \n",
            " batch_normalization_3 (Batc  (None, 4, 4, 128)        512       \n",
            " hNormalization)                                                 \n",
            "                                                                 \n",
            " conv2d_9 (Conv2D)           (None, 2, 2, 128)         147584    \n",
            "                                                                 \n",
            " max_pooling2d_5 (MaxPooling  (None, 1, 1, 128)        0         \n",
            " 2D)                                                             \n",
            "                                                                 \n",
            " flatten_1 (Flatten)         (None, 128)               0         \n",
            "                                                                 \n",
            " dense_8 (Dense)             (None, 256)               33024     \n",
            "                                                                 \n",
            " dense_9 (Dense)             (None, 512)               131584    \n",
            "                                                                 \n",
            " dropout_3 (Dropout)         (None, 512)               0         \n",
            "                                                                 \n",
            " dense_10 (Dense)            (None, 1024)              525312    \n",
            "                                                                 \n",
            " dense_11 (Dense)            (None, 256)               262400    \n",
            "                                                                 \n",
            " dropout_4 (Dropout)         (None, 256)               0         \n",
            "                                                                 \n",
            " dense_12 (Dense)            (None, 128)               32896     \n",
            "                                                                 \n",
            " dense_13 (Dense)            (None, 64)                8256      \n",
            "                                                                 \n",
            " dropout_5 (Dropout)         (None, 64)                0         \n",
            "                                                                 \n",
            " dense_14 (Dense)            (None, 32)                2080      \n",
            "                                                                 \n",
            " dense_15 (Dense)            (None, 27)                891       \n",
            "                                                                 \n",
            "=================================================================\n",
            "Total params: 1,274,395\n",
            "Trainable params: 1,274,011\n",
            "Non-trainable params: 384\n",
            "_________________________________________________________________\n"
          ]
        }
      ]
    },
    {
      "cell_type": "code",
      "source": [
        "cnn.compile(loss=\"categorical_crossentropy\", optimizer=\"adam\", metrics=[\"accuracy\"])\n",
        "\n",
        "early_stopping = EarlyStopping(patience=10, verbose=1)\n",
        "model_checkpoint = ModelCheckpoint(\"best_model.h5\", save_best_only=True, verbose=1)\n"
      ],
      "metadata": {
        "execution": {
          "iopub.status.busy": "2022-05-06T19:23:15.337178Z",
          "iopub.execute_input": "2022-05-06T19:23:15.337439Z",
          "iopub.status.idle": "2022-05-06T19:23:15.348562Z",
          "shell.execute_reply.started": "2022-05-06T19:23:15.337409Z",
          "shell.execute_reply": "2022-05-06T19:23:15.347805Z"
        },
        "trusted": true,
        "id": "T2vM4k3wmvSH"
      },
      "execution_count": 27,
      "outputs": []
    },
    {
      "cell_type": "markdown",
      "source": [
        "# Fit Model and save the best weights"
      ],
      "metadata": {
        "id": "sNTs1IuLpK_C"
      }
    },
    {
      "cell_type": "code",
      "source": [
        "history = cnn.fit(x_train, y_train, epochs=20, batch_size=128,\n",
        "        validation_data=(x_test, y_test), callbacks=[model_checkpoint])"
      ],
      "metadata": {
        "execution": {
          "iopub.status.busy": "2022-05-06T19:23:15.588164Z",
          "iopub.execute_input": "2022-05-06T19:23:15.588963Z",
          "iopub.status.idle": "2022-05-06T19:26:09.191476Z",
          "shell.execute_reply.started": "2022-05-06T19:23:15.588908Z",
          "shell.execute_reply": "2022-05-06T19:26:09.190705Z"
        },
        "trusted": true,
        "colab": {
          "base_uri": "https://localhost:8080/"
        },
        "id": "iRDRpz4tmvSI",
        "outputId": "8b33cce4-df47-4895-c5cc-037222433bb9"
      },
      "execution_count": 29,
      "outputs": [
        {
          "output_type": "stream",
          "name": "stdout",
          "text": [
            "Epoch 1/20\n",
            "975/975 [==============================] - ETA: 0s - loss: 0.5272 - accuracy: 0.8901\n",
            "Epoch 1: val_loss improved from inf to 0.37423, saving model to best_model.h5\n",
            "975/975 [==============================] - 15s 16ms/step - loss: 0.5272 - accuracy: 0.8901 - val_loss: 0.3742 - val_accuracy: 0.9241\n",
            "Epoch 2/20\n",
            "974/975 [============================>.] - ETA: 0s - loss: 0.3654 - accuracy: 0.9267\n",
            "Epoch 2: val_loss improved from 0.37423 to 0.33774, saving model to best_model.h5\n",
            "975/975 [==============================] - 13s 13ms/step - loss: 0.3653 - accuracy: 0.9267 - val_loss: 0.3377 - val_accuracy: 0.9285\n",
            "Epoch 3/20\n",
            "974/975 [============================>.] - ETA: 0s - loss: 0.3116 - accuracy: 0.9366\n",
            "Epoch 3: val_loss improved from 0.33774 to 0.32023, saving model to best_model.h5\n",
            "975/975 [==============================] - 13s 14ms/step - loss: 0.3117 - accuracy: 0.9366 - val_loss: 0.3202 - val_accuracy: 0.9333\n",
            "Epoch 4/20\n",
            "972/975 [============================>.] - ETA: 0s - loss: 0.2833 - accuracy: 0.9401\n",
            "Epoch 4: val_loss improved from 0.32023 to 0.28163, saving model to best_model.h5\n",
            "975/975 [==============================] - 13s 13ms/step - loss: 0.2834 - accuracy: 0.9401 - val_loss: 0.2816 - val_accuracy: 0.9402\n",
            "Epoch 5/20\n",
            "975/975 [==============================] - ETA: 0s - loss: 0.2559 - accuracy: 0.9448\n",
            "Epoch 5: val_loss improved from 0.28163 to 0.26575, saving model to best_model.h5\n",
            "975/975 [==============================] - 12s 13ms/step - loss: 0.2559 - accuracy: 0.9448 - val_loss: 0.2657 - val_accuracy: 0.9431\n",
            "Epoch 6/20\n",
            "973/975 [============================>.] - ETA: 0s - loss: 0.2386 - accuracy: 0.9482\n",
            "Epoch 6: val_loss did not improve from 0.26575\n",
            "975/975 [==============================] - 13s 13ms/step - loss: 0.2387 - accuracy: 0.9482 - val_loss: 0.2872 - val_accuracy: 0.9386\n",
            "Epoch 7/20\n",
            "975/975 [==============================] - ETA: 0s - loss: 0.2243 - accuracy: 0.9498\n",
            "Epoch 7: val_loss did not improve from 0.26575\n",
            "975/975 [==============================] - 13s 13ms/step - loss: 0.2243 - accuracy: 0.9498 - val_loss: 0.2688 - val_accuracy: 0.9396\n",
            "Epoch 8/20\n",
            "973/975 [============================>.] - ETA: 0s - loss: 0.2107 - accuracy: 0.9527\n",
            "Epoch 8: val_loss improved from 0.26575 to 0.25787, saving model to best_model.h5\n",
            "975/975 [==============================] - 13s 13ms/step - loss: 0.2107 - accuracy: 0.9528 - val_loss: 0.2579 - val_accuracy: 0.9430\n",
            "Epoch 9/20\n",
            "971/975 [============================>.] - ETA: 0s - loss: 0.1959 - accuracy: 0.9553\n",
            "Epoch 9: val_loss improved from 0.25787 to 0.24775, saving model to best_model.h5\n",
            "975/975 [==============================] - 14s 15ms/step - loss: 0.1959 - accuracy: 0.9553 - val_loss: 0.2478 - val_accuracy: 0.9421\n",
            "Epoch 10/20\n",
            "971/975 [============================>.] - ETA: 0s - loss: 0.1905 - accuracy: 0.9567\n",
            "Epoch 10: val_loss did not improve from 0.24775\n",
            "975/975 [==============================] - 12s 13ms/step - loss: 0.1906 - accuracy: 0.9566 - val_loss: 0.2575 - val_accuracy: 0.9425\n",
            "Epoch 11/20\n",
            "972/975 [============================>.] - ETA: 0s - loss: 0.1826 - accuracy: 0.9578\n",
            "Epoch 11: val_loss did not improve from 0.24775\n",
            "975/975 [==============================] - 13s 14ms/step - loss: 0.1825 - accuracy: 0.9578 - val_loss: 0.2562 - val_accuracy: 0.9419\n",
            "Epoch 12/20\n",
            "973/975 [============================>.] - ETA: 0s - loss: 0.1732 - accuracy: 0.9594\n",
            "Epoch 12: val_loss did not improve from 0.24775\n",
            "975/975 [==============================] - 14s 14ms/step - loss: 0.1731 - accuracy: 0.9594 - val_loss: 0.2634 - val_accuracy: 0.9416\n",
            "Epoch 13/20\n",
            "975/975 [==============================] - ETA: 0s - loss: 0.1684 - accuracy: 0.9603\n",
            "Epoch 13: val_loss did not improve from 0.24775\n",
            "975/975 [==============================] - 13s 14ms/step - loss: 0.1684 - accuracy: 0.9603 - val_loss: 0.2546 - val_accuracy: 0.9441\n",
            "Epoch 14/20\n",
            "973/975 [============================>.] - ETA: 0s - loss: 0.1615 - accuracy: 0.9617\n",
            "Epoch 14: val_loss improved from 0.24775 to 0.24071, saving model to best_model.h5\n",
            "975/975 [==============================] - 12s 12ms/step - loss: 0.1616 - accuracy: 0.9617 - val_loss: 0.2407 - val_accuracy: 0.9446\n",
            "Epoch 15/20\n",
            "971/975 [============================>.] - ETA: 0s - loss: 0.1562 - accuracy: 0.9629\n",
            "Epoch 15: val_loss did not improve from 0.24071\n",
            "975/975 [==============================] - 13s 13ms/step - loss: 0.1564 - accuracy: 0.9628 - val_loss: 0.2580 - val_accuracy: 0.9401\n",
            "Epoch 16/20\n",
            "971/975 [============================>.] - ETA: 0s - loss: 0.1512 - accuracy: 0.9641\n",
            "Epoch 16: val_loss did not improve from 0.24071\n",
            "975/975 [==============================] - 12s 12ms/step - loss: 0.1511 - accuracy: 0.9642 - val_loss: 0.2435 - val_accuracy: 0.9455\n",
            "Epoch 17/20\n",
            "972/975 [============================>.] - ETA: 0s - loss: 0.1452 - accuracy: 0.9653\n",
            "Epoch 17: val_loss did not improve from 0.24071\n",
            "975/975 [==============================] - 13s 13ms/step - loss: 0.1452 - accuracy: 0.9654 - val_loss: 0.2579 - val_accuracy: 0.9438\n",
            "Epoch 18/20\n",
            "973/975 [============================>.] - ETA: 0s - loss: 0.1417 - accuracy: 0.9661\n",
            "Epoch 18: val_loss did not improve from 0.24071\n",
            "975/975 [==============================] - 12s 12ms/step - loss: 0.1417 - accuracy: 0.9660 - val_loss: 0.2578 - val_accuracy: 0.9420\n",
            "Epoch 19/20\n",
            "972/975 [============================>.] - ETA: 0s - loss: 0.1376 - accuracy: 0.9675\n",
            "Epoch 19: val_loss did not improve from 0.24071\n",
            "975/975 [==============================] - 13s 13ms/step - loss: 0.1375 - accuracy: 0.9674 - val_loss: 0.2564 - val_accuracy: 0.9456\n",
            "Epoch 20/20\n",
            "971/975 [============================>.] - ETA: 0s - loss: 0.1354 - accuracy: 0.9681\n",
            "Epoch 20: val_loss did not improve from 0.24071\n",
            "975/975 [==============================] - 13s 13ms/step - loss: 0.1353 - accuracy: 0.9681 - val_loss: 0.2506 - val_accuracy: 0.9435\n"
          ]
        }
      ]
    },
    {
      "cell_type": "markdown",
      "source": [
        "# Evaluate Model"
      ],
      "metadata": {
        "id": "EuFfConmpQvJ"
      }
    },
    {
      "cell_type": "code",
      "source": [
        "prediction = cnn.predict(x_test.reshape(len(x_test), 28, 28, 1))\n",
        "score = cnn.evaluate(x_test.reshape(len(x_test), 28, 28, 1), y_test, verbose=0)\n",
        "print(\"accuracy CNN\", score[1])\n",
        "prediction = np.argmax(prediction, axis=1)\n",
        "y_test = np.argmax(y_test, axis=1)"
      ],
      "metadata": {
        "execution": {
          "iopub.status.busy": "2022-05-06T19:26:09.193645Z",
          "iopub.execute_input": "2022-05-06T19:26:09.193933Z",
          "iopub.status.idle": "2022-05-06T19:26:12.931297Z",
          "shell.execute_reply.started": "2022-05-06T19:26:09.193894Z",
          "shell.execute_reply": "2022-05-06T19:26:12.930424Z"
        },
        "trusted": true,
        "colab": {
          "base_uri": "https://localhost:8080/"
        },
        "id": "gwF_rWtYmvSJ",
        "outputId": "0c358614-85dc-47a1-8a79-636090aee073"
      },
      "execution_count": 30,
      "outputs": [
        {
          "output_type": "stream",
          "name": "stdout",
          "text": [
            "accuracy CNN 0.9435096383094788\n"
          ]
        }
      ]
    },
    {
      "cell_type": "code",
      "source": [
        "print(prediction[1000])"
      ],
      "metadata": {
        "execution": {
          "iopub.status.busy": "2022-05-06T19:26:12.937125Z",
          "iopub.execute_input": "2022-05-06T19:26:12.939471Z",
          "iopub.status.idle": "2022-05-06T19:26:12.946834Z",
          "shell.execute_reply.started": "2022-05-06T19:26:12.939390Z",
          "shell.execute_reply": "2022-05-06T19:26:12.945823Z"
        },
        "trusted": true,
        "colab": {
          "base_uri": "https://localhost:8080/"
        },
        "id": "ZJnWXSUbmvSK",
        "outputId": "3743e306-2991-45d6-ff4e-509f9b864949"
      },
      "execution_count": 31,
      "outputs": [
        {
          "output_type": "stream",
          "name": "stdout",
          "text": [
            "21\n"
          ]
        }
      ]
    },
    {
      "cell_type": "code",
      "source": [
        "print('classification report =\\n', classification_report(prediction, y_test))"
      ],
      "metadata": {
        "execution": {
          "iopub.status.busy": "2022-05-06T19:28:54.273162Z",
          "iopub.execute_input": "2022-05-06T19:28:54.273958Z",
          "iopub.status.idle": "2022-05-06T19:28:54.329807Z",
          "shell.execute_reply.started": "2022-05-06T19:28:54.273909Z",
          "shell.execute_reply": "2022-05-06T19:28:54.328923Z"
        },
        "trusted": true,
        "colab": {
          "base_uri": "https://localhost:8080/"
        },
        "id": "3moU7yhomvSK",
        "outputId": "00602de6-82a8-445b-d032-3a3be4a950a6"
      },
      "execution_count": 32,
      "outputs": [
        {
          "output_type": "stream",
          "name": "stdout",
          "text": [
            "classification report =\n",
            "               precision    recall  f1-score   support\n",
            "\n",
            "           1       0.95      0.95      0.95       808\n",
            "           2       0.97      0.99      0.98       788\n",
            "           3       0.98      0.97      0.98       811\n",
            "           4       0.94      0.98      0.96       765\n",
            "           5       0.98      0.98      0.98       804\n",
            "           6       0.98      0.98      0.98       803\n",
            "           7       0.91      0.82      0.86       887\n",
            "           8       0.96      0.96      0.96       802\n",
            "           9       0.87      0.68      0.76      1026\n",
            "          10       0.94      0.97      0.95       769\n",
            "          11       0.99      0.96      0.98       823\n",
            "          12       0.63      0.82      0.71       614\n",
            "          13       1.00      0.99      0.99       804\n",
            "          14       0.97      0.96      0.96       804\n",
            "          15       0.98      0.94      0.96       834\n",
            "          16       0.98      0.99      0.99       798\n",
            "          17       0.81      0.91      0.86       712\n",
            "          18       0.96      0.96      0.96       802\n",
            "          19       0.98      0.98      0.98       801\n",
            "          20       0.97      0.98      0.98       793\n",
            "          21       0.95      0.94      0.94       813\n",
            "          22       0.93      0.95      0.94       776\n",
            "          23       0.98      1.00      0.99       788\n",
            "          24       0.98      0.97      0.97       807\n",
            "          25       0.94      0.98      0.96       769\n",
            "          26       0.98      0.99      0.99       799\n",
            "\n",
            "    accuracy                           0.94     20800\n",
            "   macro avg       0.94      0.95      0.94     20800\n",
            "weighted avg       0.95      0.94      0.94     20800\n",
            "\n"
          ]
        }
      ]
    },
    {
      "cell_type": "markdown",
      "source": [
        "# Plot Accuracy and Fitting"
      ],
      "metadata": {
        "id": "0ag3mTmUpXMP"
      }
    },
    {
      "cell_type": "code",
      "source": [
        "ax = sns.heatmap(confusion_matrix(prediction, y_test), annot=True, cmap='Blues')\n",
        "\n",
        "ax.set_title(f'Seaborn Confusion Matrix with labels\\n\\n')\n",
        "ax.set_xlabel('\\nPredicted Entity')\n",
        "ax.set_ylabel('Actual Entity')\n",
        "# Ticket labels - List must be in alphabetical order\n",
        "ax.xaxis.set_ticklabels(['a', 'b', 'c', 'd', 'e' ,'f' ,'g' ,'h' ,'i','j','k','l','m','n','o','b','q','r','s','t','u','v','w','x','y','z'])\n",
        "ax.yaxis.set_ticklabels(['a', 'b', 'c', 'd', 'e' ,'f' ,'g' ,'h' ,'i','j','k','l','m','n','o','b','q','r','s','t','u','v','w','x','y','z'])\n",
        "# Display the visualization of the Confusion Matrix.\n",
        "plt.show()"
      ],
      "metadata": {
        "colab": {
          "base_uri": "https://localhost:8080/",
          "height": 337
        },
        "id": "JcDBhNiXmvSL",
        "outputId": "605adfd2-73a8-4d98-c419-6eb97102f25e"
      },
      "execution_count": 37,
      "outputs": [
        {
          "output_type": "display_data",
          "data": {
            "text/plain": [
              "<Figure size 432x288 with 2 Axes>"
            ],
            "image/png": "[encoded data removed]"
          },
          "metadata": {
            "needs_background": "light"
          }
        }
      ]
    },
    {
      "cell_type": "code",
      "source": [
        "plt.plot(history.history['accuracy'])\n",
        "plt.plot(history.history['val_accuracy'])\n",
        "plt.title('model accuracy')\n",
        "plt.ylabel('accuracy')\n",
        "plt.xlabel('epoch')\n",
        "plt.legend(['train', 'validation'], loc='lower right')\n",
        "plt.show()"
      ],
      "metadata": {
        "colab": {
          "base_uri": "https://localhost:8080/",
          "height": 295
        },
        "id": "RNenBwDVoaVn",
        "outputId": "21eb1f91-c10a-4268-e9c8-09d32ffdbaae"
      },
      "execution_count": 35,
      "outputs": [
        {
          "output_type": "display_data",
          "data": {
            "text/plain": [
              "<Figure size 432x288 with 1 Axes>"
            ],
            "image/png": "[encoded data removed]"
          },
          "metadata": {
            "needs_background": "light"
          }
        }
      ]
    },
    {
      "cell_type": "code",
      "source": [
        "plt.plot(history.history['loss'])\n",
        "plt.plot(history.history['val_loss'])\n",
        "plt.title('model loss')\n",
        "plt.ylabel('loss')\n",
        "plt.xlabel('epoch')\n",
        "plt.legend(['train', 'validation'], loc='upper right')\n",
        "plt.show()"
      ],
      "metadata": {
        "colab": {
          "base_uri": "https://localhost:8080/",
          "height": 295
        },
        "id": "bDHxPsOmobZn",
        "outputId": "f3dc30cb-7bd9-41ef-bfa3-2104fe7e9a05"
      },
      "execution_count": 36,
      "outputs": [
        {
          "output_type": "display_data",
          "data": {
            "text/plain": [
              "<Figure size 432x288 with 1 Axes>"
            ],
            "image/png": "[encoded data removed]"
          },
          "metadata": {
            "needs_background": "light"
          }
        }
      ]
    },
    {
      "cell_type": "code",
      "source": [
        ""
      ],
      "metadata": {
        "id": "ubgdK2OLp0Jx"
      },
      "execution_count": null,
      "outputs": []
    }
  ]
}